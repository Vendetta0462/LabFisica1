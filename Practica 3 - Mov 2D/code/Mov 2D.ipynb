{
 "cells": [
  {
   "cell_type": "markdown",
   "metadata": {},
   "source": [
    "# Laboratorio N3: Movimiento Parabólico "
   ]
  },
  {
   "cell_type": "markdown",
   "metadata": {},
   "source": [
    "**Lanzamiento Horizontal**"
   ]
  },
  {
   "cell_type": "markdown",
   "metadata": {},
   "source": [
    "Ecuación de Alcance máxima cuando y0 difiere de 0"
   ]
  },
  {
   "cell_type": "markdown",
   "metadata": {},
   "source": [
    "Variables directas: Altura inicial, Velocidad.  "
   ]
  },
  {
   "cell_type": "markdown",
   "metadata": {},
   "source": [
    "Variables indirectas: Ángulo, alcance máximo"
   ]
  },
  {
   "cell_type": "markdown",
   "metadata": {},
   "source": [
    "**Lanzamiento parabólico con blanco**"
   ]
  },
  {
   "cell_type": "markdown",
   "metadata": {},
   "source": [
    "Medidas directas: Altura inicial del blanco, altura inicial lanzador, ángulo de lanzamiento"
   ]
  },
  {
   "cell_type": "markdown",
   "metadata": {},
   "source": [
    "Medidas indirectas: Posición de impacto (x,y)"
   ]
  },
  {
   "cell_type": "code",
   "execution_count": 1,
   "metadata": {},
   "outputs": [],
   "source": [
    "import pandas as pd\n",
    "import matplotlib as plt\n",
    "import numpy as np"
   ]
  },
  {
   "cell_type": "markdown",
   "metadata": {
    "tags": []
   },
   "source": [
    "# Parte 1\n",
    "Alcance máximo y ángulo empleado"
   ]
  },
  {
   "cell_type": "markdown",
   "metadata": {
    "tags": []
   },
   "source": [
    "## Declaraciones e importe de datos"
   ]
  },
  {
   "cell_type": "code",
   "execution_count": 2,
   "metadata": {},
   "outputs": [],
   "source": [
    "y_01 = 0.36 #metros\n",
    "theta = 39.56 #grados\n",
    "g = 9.7803#m/s^2\n",
    "\n",
    "df=pd.read_csv('../data/data_proyectil.csv', delimiter=\";\", nrows=10, decimal=\",\")"
   ]
  },
  {
   "cell_type": "code",
   "execution_count": 3,
   "metadata": {},
   "outputs": [
    {
     "data": {
      "text/html": [
       "<div>\n",
       "<style scoped>\n",
       "    .dataframe tbody tr th:only-of-type {\n",
       "        vertical-align: middle;\n",
       "    }\n",
       "\n",
       "    .dataframe tbody tr th {\n",
       "        vertical-align: top;\n",
       "    }\n",
       "\n",
       "    .dataframe thead th {\n",
       "        text-align: right;\n",
       "    }\n",
       "</style>\n",
       "<table border=\"1\" class=\"dataframe\">\n",
       "  <thead>\n",
       "    <tr style=\"text-align: right;\">\n",
       "      <th></th>\n",
       "      <th>Velocidad</th>\n",
       "      <th>Distancia horizontal</th>\n",
       "    </tr>\n",
       "  </thead>\n",
       "  <tbody>\n",
       "    <tr>\n",
       "      <th>0</th>\n",
       "      <td>3.9123</td>\n",
       "      <td>1.9107</td>\n",
       "    </tr>\n",
       "    <tr>\n",
       "      <th>1</th>\n",
       "      <td>3.8651</td>\n",
       "      <td>1.9300</td>\n",
       "    </tr>\n",
       "    <tr>\n",
       "      <th>2</th>\n",
       "      <td>3.8746</td>\n",
       "      <td>1.9040</td>\n",
       "    </tr>\n",
       "    <tr>\n",
       "      <th>3</th>\n",
       "      <td>3.9142</td>\n",
       "      <td>1.9020</td>\n",
       "    </tr>\n",
       "    <tr>\n",
       "      <th>4</th>\n",
       "      <td>3.8632</td>\n",
       "      <td>1.8930</td>\n",
       "    </tr>\n",
       "    <tr>\n",
       "      <th>5</th>\n",
       "      <td>3.8699</td>\n",
       "      <td>1.9020</td>\n",
       "    </tr>\n",
       "    <tr>\n",
       "      <th>6</th>\n",
       "      <td>3.8746</td>\n",
       "      <td>1.9000</td>\n",
       "    </tr>\n",
       "    <tr>\n",
       "      <th>7</th>\n",
       "      <td>3.8919</td>\n",
       "      <td>1.9160</td>\n",
       "    </tr>\n",
       "    <tr>\n",
       "      <th>8</th>\n",
       "      <td>3.9018</td>\n",
       "      <td>1.9100</td>\n",
       "    </tr>\n",
       "    <tr>\n",
       "      <th>9</th>\n",
       "      <td>3.8919</td>\n",
       "      <td>1.8900</td>\n",
       "    </tr>\n",
       "  </tbody>\n",
       "</table>\n",
       "</div>"
      ],
      "text/plain": [
       "   Velocidad  Distancia horizontal\n",
       "0     3.9123                1.9107\n",
       "1     3.8651                1.9300\n",
       "2     3.8746                1.9040\n",
       "3     3.9142                1.9020\n",
       "4     3.8632                1.8930\n",
       "5     3.8699                1.9020\n",
       "6     3.8746                1.9000\n",
       "7     3.8919                1.9160\n",
       "8     3.9018                1.9100\n",
       "9     3.8919                1.8900"
      ]
     },
     "execution_count": 3,
     "metadata": {},
     "output_type": "execute_result"
    }
   ],
   "source": [
    "df=df.rename(columns={'v':'Velocidad', 'r': 'Distancia horizontal'})\n",
    "df"
   ]
  },
  {
   "cell_type": "markdown",
   "metadata": {
    "tags": []
   },
   "source": [
    "## Calculo de promedios y desviaciones"
   ]
  },
  {
   "cell_type": "code",
   "execution_count": 4,
   "metadata": {},
   "outputs": [
    {
     "name": "stdout",
     "output_type": "stream",
     "text": [
      "Velocidad exp; 3.886 , Desviacion vel: 0.0191 , Distancia exp: 1.9058 , Desviacion dist: 0.0116 \n",
      "Distancia teorica: 1.8697 , Angulo teorico: 39.5506 , Angulo usado: 39.56\n"
     ]
    }
   ],
   "source": [
    "vel_prom = round(df.Velocidad.mean(), 4)\n",
    "vel_std = round(df.Velocidad.std(ddof=1), 4)\n",
    "dist_std = round(df[\"Distancia horizontal\"].std(ddof=1), 4)\n",
    "dist_prom = round(df[\"Distancia horizontal\"].mean(), 4)\n",
    "dist_teo = round((vel_prom/g)*np.sqrt(vel_prom**2+(2*g*y_01)), 4)\n",
    "theta_teo = round(np.degrees(np.arctan(vel_prom/np.sqrt(vel_prom**2+(2*g*y_01)))),4)\n",
    "print(\"Velocidad exp;\", vel_prom, \", Desviacion vel:\", vel_std,\", Distancia exp:\", dist_prom,\n",
    "      \", Desviacion dist:\", dist_std, \"\\nDistancia teorica:\",\n",
    "      dist_teo, \", Angulo teorico:\", theta_teo, \", Angulo usado:\", theta)"
   ]
  },
  {
   "cell_type": "code",
   "execution_count": 5,
   "metadata": {},
   "outputs": [
    {
     "name": "stdout",
     "output_type": "stream",
     "text": [
      "-1.9308 -0.0238\n"
     ]
    }
   ],
   "source": [
    "error_dist = round((1-(dist_prom/dist_teo))*100, 4)\n",
    "error_theta = round((1-(theta/theta_teo))*100, 4)\n",
    "print(error_dist, error_theta)"
   ]
  },
  {
   "cell_type": "markdown",
   "metadata": {},
   "source": [
    "# Parte 2\n",
    "Colisión"
   ]
  },
  {
   "cell_type": "markdown",
   "metadata": {
    "tags": []
   },
   "source": [
    "## Declaraciones e importe de datos"
   ]
  },
  {
   "cell_type": "code",
   "execution_count": 21,
   "metadata": {},
   "outputs": [
    {
     "data": {
      "text/html": [
       "<div>\n",
       "<style scoped>\n",
       "    .dataframe tbody tr th:only-of-type {\n",
       "        vertical-align: middle;\n",
       "    }\n",
       "\n",
       "    .dataframe tbody tr th {\n",
       "        vertical-align: top;\n",
       "    }\n",
       "\n",
       "    .dataframe thead th {\n",
       "        text-align: right;\n",
       "    }\n",
       "</style>\n",
       "<table border=\"1\" class=\"dataframe\">\n",
       "  <thead>\n",
       "    <tr style=\"text-align: right;\">\n",
       "      <th></th>\n",
       "      <th>y_1</th>\n",
       "      <th>y_2</th>\n",
       "    </tr>\n",
       "  </thead>\n",
       "  <tbody>\n",
       "    <tr>\n",
       "      <th>0</th>\n",
       "      <td>-0.007</td>\n",
       "      <td>0.048</td>\n",
       "    </tr>\n",
       "    <tr>\n",
       "      <th>1</th>\n",
       "      <td>-0.006</td>\n",
       "      <td>0.057</td>\n",
       "    </tr>\n",
       "    <tr>\n",
       "      <th>2</th>\n",
       "      <td>0.010</td>\n",
       "      <td>0.032</td>\n",
       "    </tr>\n",
       "    <tr>\n",
       "      <th>3</th>\n",
       "      <td>0.008</td>\n",
       "      <td>0.062</td>\n",
       "    </tr>\n",
       "    <tr>\n",
       "      <th>4</th>\n",
       "      <td>0.015</td>\n",
       "      <td>0.058</td>\n",
       "    </tr>\n",
       "    <tr>\n",
       "      <th>5</th>\n",
       "      <td>0.016</td>\n",
       "      <td>0.064</td>\n",
       "    </tr>\n",
       "    <tr>\n",
       "      <th>6</th>\n",
       "      <td>0.005</td>\n",
       "      <td>0.063</td>\n",
       "    </tr>\n",
       "    <tr>\n",
       "      <th>7</th>\n",
       "      <td>0.005</td>\n",
       "      <td>0.062</td>\n",
       "    </tr>\n",
       "    <tr>\n",
       "      <th>8</th>\n",
       "      <td>0.012</td>\n",
       "      <td>0.066</td>\n",
       "    </tr>\n",
       "    <tr>\n",
       "      <th>9</th>\n",
       "      <td>0.023</td>\n",
       "      <td>0.058</td>\n",
       "    </tr>\n",
       "  </tbody>\n",
       "</table>\n",
       "</div>"
      ],
      "text/plain": [
       "     y_1    y_2\n",
       "0 -0.007  0.048\n",
       "1 -0.006  0.057\n",
       "2  0.010  0.032\n",
       "3  0.008  0.062\n",
       "4  0.015  0.058\n",
       "5  0.016  0.064\n",
       "6  0.005  0.063\n",
       "7  0.005  0.062\n",
       "8  0.012  0.066\n",
       "9  0.023  0.058"
      ]
     },
     "execution_count": 21,
     "metadata": {},
     "output_type": "execute_result"
    }
   ],
   "source": [
    "y_02 = 1.03 #m\n",
    "y_2 = 0.811 #m\n",
    "y_1 = 0.865\n",
    "\n",
    "dp = pd.read_csv(\"../data/altura_impacto.csv\", delimiter=\";\", decimal=\",\")\n",
    "dp = dp/100\n",
    "dp"
   ]
  },
  {
   "cell_type": "code",
   "execution_count": 10,
   "metadata": {},
   "outputs": [
    {
     "data": {
      "text/plain": [
       "0.811"
      ]
     },
     "execution_count": 10,
     "metadata": {},
     "output_type": "execute_result"
    }
   ],
   "source": [
    "x_f = round((y_02-y_01)/np.tan(np.radians(theta)), 3)\n",
    "x_f"
   ]
  },
  {
   "cell_type": "markdown",
   "metadata": {
    "tags": []
   },
   "source": [
    "## Calculo de promedios y desviaciones"
   ]
  },
  {
   "cell_type": "code",
   "execution_count": 22,
   "metadata": {},
   "outputs": [
    {
     "name": "stdout",
     "output_type": "stream",
     "text": [
      "0.008 0.009 0.057 0.01\n"
     ]
    }
   ],
   "source": [
    "y_1_prom = round(dp.y_1.mean(),3)\n",
    "y_1_std = round(dp.y_1.std(ddof=1),3)\n",
    "y_2_prom = round(dp.y_2.mean(),3)\n",
    "y_2_std = round(dp.y_2.std(ddof=1),3)\n",
    "print(y_1_prom, y_1_std, y_2_prom, y_2_std)"
   ]
  },
  {
   "cell_type": "code",
   "execution_count": 23,
   "metadata": {},
   "outputs": [
    {
     "data": {
      "text/plain": [
       "1.125"
      ]
     },
     "execution_count": 23,
     "metadata": {},
     "output_type": "execute_result"
    }
   ],
   "source": [
    "y_1_std/y_1_prom"
   ]
  }
 ],
 "metadata": {
  "kernelspec": {
   "display_name": "Python 3 (ipykernel)",
   "language": "python",
   "name": "python3"
  },
  "language_info": {
   "codemirror_mode": {
    "name": "ipython",
    "version": 3
   },
   "file_extension": ".py",
   "mimetype": "text/x-python",
   "name": "python",
   "nbconvert_exporter": "python",
   "pygments_lexer": "ipython3",
   "version": "3.9.7"
  }
 },
 "nbformat": 4,
 "nbformat_minor": 4
}
