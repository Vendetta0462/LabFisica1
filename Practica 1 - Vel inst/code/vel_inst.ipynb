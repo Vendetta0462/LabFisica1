{
 "cells": [
  {
   "cell_type": "code",
   "execution_count": 3,
   "id": "55ff10a3-d280-40f5-b946-21792cd6365c",
   "metadata": {},
   "outputs": [],
   "source": [
    "import numpy as np\n",
    "import matplotlib.pyplot as plt\n",
    "import pandas as pd"
   ]
  },
  {
   "cell_type": "code",
   "execution_count": 83,
   "id": "b50f6292-0834-4efa-8d3e-a5312372bd53",
   "metadata": {},
   "outputs": [],
   "source": [
    "df1 = pd.read_csv(\"../data/Datos_Dist.csv\", usecols=[0,2,4,6])\n",
    "df2 = pd.read_csv(\"../data/Dato exportado_090833.csv\", sep=\";\", usecols=[2, 11, 20, 29],\n",
    "                  skiprows=2, names=[\"SET5\", \"SET6\", \"SET8\", \"SET7\"], decimal=\",\")\n",
    "data = df1.join(df2)\n",
    "data = data[[\"SET1\",\"SET2\",\"SET3\",\"SET4\",\"SET5\", \"SET6\", \"SET7\", \"SET8\"]]\n",
    "data_prom = round(data.mean(), 4)\n",
    "data_std = round(data.std(), 4)"
   ]
  }
 ],
 "metadata": {
  "kernelspec": {
   "display_name": "Python 3 (ipykernel)",
   "language": "python",
   "name": "python3"
  },
  "language_info": {
   "codemirror_mode": {
    "name": "ipython",
    "version": 3
   },
   "file_extension": ".py",
   "mimetype": "text/x-python",
   "name": "python",
   "nbconvert_exporter": "python",
   "pygments_lexer": "ipython3",
   "version": "3.9.7"
  }
 },
 "nbformat": 4,
 "nbformat_minor": 5
}
