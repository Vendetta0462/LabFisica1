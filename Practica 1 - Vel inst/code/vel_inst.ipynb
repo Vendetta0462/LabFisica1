{
 "cells": [
  {
   "cell_type": "code",
   "execution_count": 1,
   "id": "55ff10a3-d280-40f5-b946-21792cd6365c",
   "metadata": {},
   "outputs": [],
   "source": [
    "import numpy as np\n",
    "import matplotlib.pyplot as plt\n",
    "import pandas as pd\n",
    "import seaborn as sns"
   ]
  },
  {
   "cell_type": "markdown",
   "id": "dddf84b4-5e29-457a-89ef-3406f72d42a6",
   "metadata": {
    "tags": []
   },
   "source": [
    "# Experimental"
   ]
  },
  {
   "cell_type": "code",
   "execution_count": 2,
   "id": "b50f6292-0834-4efa-8d3e-a5312372bd53",
   "metadata": {},
   "outputs": [],
   "source": [
    "df1 = pd.read_csv(\"../data/Datos_Dist.csv\", usecols=[0,2,4,6])\n",
    "df2 = pd.read_csv(\"../data/Dato exportado_090833.csv\", sep=\";\", usecols=[2, 11, 20, 29],\n",
    "                  skiprows=2, names=[\"SET5\", \"SET6\", \"SET8\", \"SET7\"], decimal=\",\")\n",
    "data = df1.join(df2)\n",
    "data = data[[\"SET1\",\"SET2\",\"SET3\",\"SET4\",\"SET5\", \"SET6\", \"SET7\", \"SET8\"]]\n",
    "data_prom = round(data.mean(), 4)\n",
    "data_std = round(data.std(), 4)\n",
    "\n",
    "res_t = 0.0001"
   ]
  },
  {
   "cell_type": "code",
   "execution_count": 3,
   "id": "986ee9af-d93b-45ef-8e92-fba54bfd09b9",
   "metadata": {},
   "outputs": [],
   "source": [
    "x={'SET1':[0.6], 'SET2':[0.4], 'SET3':[0.2], 'SET4':[0.0763], 'SET5':[0.0862], 'SET6':[0.061], 'SET7':[0.0194], 'SET8':[0.0114]} \n",
    "delta_x=pd.DataFrame(data=x)\n",
    "delta_x_err=[0.001, 0.001, 0.001, 0.00005, 0.00005, 0.00005, 0.00005, 0.00005]"
   ]
  },
  {
   "cell_type": "code",
   "execution_count": 4,
   "id": "bc065014-f72f-4743-84f1-11448fb5d84c",
   "metadata": {},
   "outputs": [
    {
     "data": {
      "text/html": [
       "<div>\n",
       "<style scoped>\n",
       "    .dataframe tbody tr th:only-of-type {\n",
       "        vertical-align: middle;\n",
       "    }\n",
       "\n",
       "    .dataframe tbody tr th {\n",
       "        vertical-align: top;\n",
       "    }\n",
       "\n",
       "    .dataframe thead th {\n",
       "        text-align: right;\n",
       "    }\n",
       "</style>\n",
       "<table border=\"1\" class=\"dataframe\">\n",
       "  <thead>\n",
       "    <tr style=\"text-align: right;\">\n",
       "      <th></th>\n",
       "      <th>SET1</th>\n",
       "      <th>SET2</th>\n",
       "      <th>SET3</th>\n",
       "      <th>SET4</th>\n",
       "      <th>SET5</th>\n",
       "      <th>SET6</th>\n",
       "      <th>SET7</th>\n",
       "      <th>SET8</th>\n",
       "    </tr>\n",
       "  </thead>\n",
       "  <tbody>\n",
       "    <tr>\n",
       "      <th>0</th>\n",
       "      <td>0.5314</td>\n",
       "      <td>0.5384</td>\n",
       "      <td>0.5432</td>\n",
       "      <td>0.5336</td>\n",
       "      <td>0.6053</td>\n",
       "      <td>0.5561</td>\n",
       "      <td>0.533</td>\n",
       "      <td>0.4935</td>\n",
       "    </tr>\n",
       "  </tbody>\n",
       "</table>\n",
       "</div>"
      ],
      "text/plain": [
       "     SET1    SET2    SET3    SET4    SET5    SET6   SET7    SET8\n",
       "0  0.5314  0.5384  0.5432  0.5336  0.6053  0.5561  0.533  0.4935"
      ]
     },
     "execution_count": 4,
     "metadata": {},
     "output_type": "execute_result"
    }
   ],
   "source": [
    "# vel=pd.DataFrame\n",
    "# def v(x,t):\n",
    "#     vel=x/t\n",
    "#     return vel\n",
    "# vel=round(v(delta_x,data_prom), 4)\n",
    "vel = round(delta_x/data_prom, 4)\n",
    "vel"
   ]
  },
  {
   "cell_type": "code",
   "execution_count": 5,
   "id": "e69c3fd3-e7fb-4dda-8a18-1b85d60be609",
   "metadata": {},
   "outputs": [],
   "source": [
    "# def errors(v,e_x,e_t):\n",
    "#     np.absolut(np.diff(v,e_x))0.00005+np.absolut(np.diff(v,e_t))\n",
    "err = round(((1/data_prom)*data_std)+(delta_x/data_prom**2)*delta_x_err,4)"
   ]
  },
  {
   "cell_type": "code",
   "execution_count": 6,
   "id": "402d7a60-fffe-47a2-9690-d036dcae127f",
   "metadata": {},
   "outputs": [
    {
     "data": {
      "text/plain": [
       "<matplotlib.collections.PathCollection at 0x1d1c482d8b0>"
      ]
     },
     "execution_count": 6,
     "metadata": {},
     "output_type": "execute_result"
    },
    {
     "data": {
      "image/png": "[encoded data removed]",
      "text/plain": [
       "<Figure size 432x288 with 1 Axes>"
      ]
     },
     "metadata": {
      "needs_background": "light"
     },
     "output_type": "display_data"
    }
   ],
   "source": [
    "plt.scatter(delta_x, vel)\n",
    "# plt.figure()\n",
    "# plt.scatter(delta_x.iloc[0], data_prom) \n",
    "# sns.regplot(delta_x, vel)"
   ]
  },
  {
   "cell_type": "code",
   "execution_count": 24,
   "id": "89f429ba-29f9-40e9-a448-77cd238ee3b2",
   "metadata": {},
   "outputs": [
    {
     "data": {
      "text/html": [
       "<div>\n",
       "<style scoped>\n",
       "    .dataframe tbody tr th:only-of-type {\n",
       "        vertical-align: middle;\n",
       "    }\n",
       "\n",
       "    .dataframe tbody tr th {\n",
       "        vertical-align: top;\n",
       "    }\n",
       "\n",
       "    .dataframe thead th {\n",
       "        text-align: right;\n",
       "    }\n",
       "</style>\n",
       "<table border=\"1\" class=\"dataframe\">\n",
       "  <thead>\n",
       "    <tr style=\"text-align: right;\">\n",
       "      <th></th>\n",
       "      <th>0</th>\n",
       "      <th>1</th>\n",
       "      <th>2</th>\n",
       "      <th>3</th>\n",
       "      <th>4</th>\n",
       "      <th>5</th>\n",
       "      <th>6</th>\n",
       "      <th>7</th>\n",
       "      <th>8</th>\n",
       "      <th>9</th>\n",
       "    </tr>\n",
       "    <tr>\n",
       "      <th>0</th>\n",
       "      <th></th>\n",
       "      <th></th>\n",
       "      <th></th>\n",
       "      <th></th>\n",
       "      <th></th>\n",
       "      <th></th>\n",
       "      <th></th>\n",
       "      <th></th>\n",
       "      <th></th>\n",
       "      <th></th>\n",
       "    </tr>\n",
       "  </thead>\n",
       "  <tbody>\n",
       "    <tr>\n",
       "      <th>0.6000</th>\n",
       "      <td>1.1286</td>\n",
       "      <td>1.1287</td>\n",
       "      <td>1.1300</td>\n",
       "      <td>1.1292</td>\n",
       "      <td>1.1295</td>\n",
       "      <td>1.1292</td>\n",
       "      <td>1.1298</td>\n",
       "      <td>1.1276</td>\n",
       "      <td>1.1289</td>\n",
       "      <td>1.1281</td>\n",
       "    </tr>\n",
       "    <tr>\n",
       "      <th>0.4000</th>\n",
       "      <td>0.7429</td>\n",
       "      <td>0.7423</td>\n",
       "      <td>0.7442</td>\n",
       "      <td>0.7434</td>\n",
       "      <td>0.7433</td>\n",
       "      <td>0.7426</td>\n",
       "      <td>0.7424</td>\n",
       "      <td>0.7427</td>\n",
       "      <td>0.7424</td>\n",
       "      <td>0.7427</td>\n",
       "    </tr>\n",
       "    <tr>\n",
       "      <th>0.2000</th>\n",
       "      <td>0.3686</td>\n",
       "      <td>0.3684</td>\n",
       "      <td>0.3682</td>\n",
       "      <td>0.3676</td>\n",
       "      <td>0.3685</td>\n",
       "      <td>0.3684</td>\n",
       "      <td>0.3680</td>\n",
       "      <td>0.3682</td>\n",
       "      <td>0.3678</td>\n",
       "      <td>0.3679</td>\n",
       "    </tr>\n",
       "    <tr>\n",
       "      <th>0.0763</th>\n",
       "      <td>0.1430</td>\n",
       "      <td>0.1431</td>\n",
       "      <td>0.1431</td>\n",
       "      <td>0.1430</td>\n",
       "      <td>0.1431</td>\n",
       "      <td>0.1430</td>\n",
       "      <td>0.1430</td>\n",
       "      <td>0.1429</td>\n",
       "      <td>0.1431</td>\n",
       "      <td>0.1431</td>\n",
       "    </tr>\n",
       "    <tr>\n",
       "      <th>0.0862</th>\n",
       "      <td>0.1425</td>\n",
       "      <td>0.1427</td>\n",
       "      <td>0.1424</td>\n",
       "      <td>0.1425</td>\n",
       "      <td>0.1424</td>\n",
       "      <td>0.1423</td>\n",
       "      <td>0.1423</td>\n",
       "      <td>0.1424</td>\n",
       "      <td>0.1422</td>\n",
       "      <td>0.1423</td>\n",
       "    </tr>\n",
       "    <tr>\n",
       "      <th>0.0610</th>\n",
       "      <td>0.1096</td>\n",
       "      <td>0.1098</td>\n",
       "      <td>0.1096</td>\n",
       "      <td>0.1098</td>\n",
       "      <td>0.1095</td>\n",
       "      <td>0.1098</td>\n",
       "      <td>0.1097</td>\n",
       "      <td>0.1099</td>\n",
       "      <td>0.1096</td>\n",
       "      <td>0.1097</td>\n",
       "    </tr>\n",
       "    <tr>\n",
       "      <th>0.0194</th>\n",
       "      <td>0.0364</td>\n",
       "      <td>0.0364</td>\n",
       "      <td>0.0364</td>\n",
       "      <td>0.0364</td>\n",
       "      <td>0.0364</td>\n",
       "      <td>0.0364</td>\n",
       "      <td>0.0364</td>\n",
       "      <td>0.0363</td>\n",
       "      <td>0.0364</td>\n",
       "      <td>0.0364</td>\n",
       "    </tr>\n",
       "    <tr>\n",
       "      <th>0.0114</th>\n",
       "      <td>0.0231</td>\n",
       "      <td>0.0231</td>\n",
       "      <td>0.0231</td>\n",
       "      <td>0.0231</td>\n",
       "      <td>0.0231</td>\n",
       "      <td>0.0231</td>\n",
       "      <td>0.0231</td>\n",
       "      <td>0.0231</td>\n",
       "      <td>0.0231</td>\n",
       "      <td>0.0231</td>\n",
       "    </tr>\n",
       "  </tbody>\n",
       "</table>\n",
       "</div>"
      ],
      "text/plain": [
       "             0       1       2       3       4       5       6       7  \\\n",
       "0                                                                        \n",
       "0.6000  1.1286  1.1287  1.1300  1.1292  1.1295  1.1292  1.1298  1.1276   \n",
       "0.4000  0.7429  0.7423  0.7442  0.7434  0.7433  0.7426  0.7424  0.7427   \n",
       "0.2000  0.3686  0.3684  0.3682  0.3676  0.3685  0.3684  0.3680  0.3682   \n",
       "0.0763  0.1430  0.1431  0.1431  0.1430  0.1431  0.1430  0.1430  0.1429   \n",
       "0.0862  0.1425  0.1427  0.1424  0.1425  0.1424  0.1423  0.1423  0.1424   \n",
       "0.0610  0.1096  0.1098  0.1096  0.1098  0.1095  0.1098  0.1097  0.1099   \n",
       "0.0194  0.0364  0.0364  0.0364  0.0364  0.0364  0.0364  0.0364  0.0363   \n",
       "0.0114  0.0231  0.0231  0.0231  0.0231  0.0231  0.0231  0.0231  0.0231   \n",
       "\n",
       "             8       9  \n",
       "0                       \n",
       "0.6000  1.1289  1.1281  \n",
       "0.4000  0.7424  0.7427  \n",
       "0.2000  0.3678  0.3679  \n",
       "0.0763  0.1431  0.1431  \n",
       "0.0862  0.1422  0.1423  \n",
       "0.0610  0.1096  0.1097  \n",
       "0.0194  0.0364  0.0364  \n",
       "0.0114  0.0231  0.0231  "
      ]
     },
     "execution_count": 24,
     "metadata": {},
     "output_type": "execute_result"
    }
   ],
   "source": [
    "tabla_final = pd.DataFrame(columns=delta_x.iloc[0])\n",
    "for i in range(0,8):\n",
    "    tabla_final[tabla_final.columns[i]] = data[\"SET\"+str(i+1)]\n",
    "tabla_final.T"
   ]
  },
  {
   "cell_type": "markdown",
   "id": "891f5d42-b884-489d-8c94-b968406b0f78",
   "metadata": {},
   "source": [
    "# Teórico"
   ]
  },
  {
   "cell_type": "code",
   "execution_count": 11,
   "id": "ba149c31-6bc4-4b0a-b14f-f365d6283ae7",
   "metadata": {},
   "outputs": [
    {
     "data": {
      "text/html": [
       "<div>\n",
       "<style scoped>\n",
       "    .dataframe tbody tr th:only-of-type {\n",
       "        vertical-align: middle;\n",
       "    }\n",
       "\n",
       "    .dataframe tbody tr th {\n",
       "        vertical-align: top;\n",
       "    }\n",
       "\n",
       "    .dataframe thead th {\n",
       "        text-align: right;\n",
       "    }\n",
       "</style>\n",
       "<table border=\"1\" class=\"dataframe\">\n",
       "  <thead>\n",
       "    <tr style=\"text-align: right;\">\n",
       "      <th></th>\n",
       "      <th>SET1</th>\n",
       "      <th>SET2</th>\n",
       "      <th>SET3</th>\n",
       "      <th>SET4</th>\n",
       "      <th>SET5</th>\n",
       "      <th>SET6</th>\n",
       "      <th>SET7</th>\n",
       "      <th>SET8</th>\n",
       "    </tr>\n",
       "  </thead>\n",
       "  <tbody>\n",
       "    <tr>\n",
       "      <th>0</th>\n",
       "      <td>0.947518</td>\n",
       "      <td>0.959999</td>\n",
       "      <td>0.968558</td>\n",
       "      <td>0.951441</td>\n",
       "      <td>1.079286</td>\n",
       "      <td>0.99156</td>\n",
       "      <td>0.950371</td>\n",
       "      <td>0.87994</td>\n",
       "    </tr>\n",
       "  </tbody>\n",
       "</table>\n",
       "</div>"
      ],
      "text/plain": [
       "       SET1      SET2      SET3      SET4      SET5     SET6      SET7  \\\n",
       "0  0.947518  0.959999  0.968558  0.951441  1.079286  0.99156  0.950371   \n",
       "\n",
       "      SET8  \n",
       "0  0.87994  "
      ]
     },
     "execution_count": 11,
     "metadata": {},
     "output_type": "execute_result"
    }
   ],
   "source": [
    "x_tabla = 0.0268\n",
    "alfa = np.arcsin(x_tabla)\n",
    "v_f = np.sqrt(2*9.7803*x_tabla*0.6)\n",
    "vel/v_f"
   ]
  }
 ],
 "metadata": {
  "kernelspec": {
   "display_name": "Python 3 (ipykernel)",
   "language": "python",
   "name": "python3"
  },
  "language_info": {
   "codemirror_mode": {
    "name": "ipython",
    "version": 3
   },
   "file_extension": ".py",
   "mimetype": "text/x-python",
   "name": "python",
   "nbconvert_exporter": "python",
   "pygments_lexer": "ipython3",
   "version": "3.9.7"
  }
 },
 "nbformat": 4,
 "nbformat_minor": 5
}
